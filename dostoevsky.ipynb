{
 "cells": [
  {
   "cell_type": "markdown",
   "id": "01b57c23-1a8f-420d-a9b1-94aae88409c1",
   "metadata": {},
   "source": [
    "# F1-score аналитической модели"
   ]
  },
  {
   "cell_type": "markdown",
   "id": "6b6c3383-6ba8-4743-89c9-0c027d008aee",
   "metadata": {},
   "source": [
    "Определим точность работы модели"
   ]
  },
  {
   "cell_type": "code",
   "execution_count": 1,
   "id": "a93a6673-d7d4-4c12-9f4f-0e24b8ffcd20",
   "metadata": {},
   "outputs": [],
   "source": [
    "import pandas as pd\n",
    "\n",
    "from dostoevsky.tokenization import RegexTokenizer\n",
    "from dostoevsky.models import FastTextSocialNetworkModel\n",
    "from tqdm import tqdm\n",
    "from sklearn.metrics import f1_score"
   ]
  },
  {
   "cell_type": "markdown",
   "id": "2068e6d2-9ed8-4ab2-90db-e8f32fc5fb24",
   "metadata": {},
   "source": [
    "Задаём модель, которая будет определать тональность комментариев."
   ]
  },
  {
   "cell_type": "code",
   "execution_count": 2,
   "id": "ef6a2da7-b5af-4579-820e-7f91806177c0",
   "metadata": {},
   "outputs": [
    {
     "name": "stderr",
     "output_type": "stream",
     "text": [
      "Warning : `load_model` does not return WordVectorModel or SupervisedModel any more, but a `FastText` object which is very similar.\n"
     ]
    }
   ],
   "source": [
    "dostoevsky_model = FastTextSocialNetworkModel(tokenizer=RegexTokenizer())"
   ]
  },
  {
   "cell_type": "markdown",
   "id": "c560add0-c408-4b52-bca1-7ce98461db24",
   "metadata": {},
   "source": [
    "Загружаем данные для проверки модели"
   ]
  },
  {
   "cell_type": "code",
   "execution_count": 3,
   "id": "4ea00d97-8c7f-4727-b91c-c07bce19764a",
   "metadata": {},
   "outputs": [],
   "source": [
    "df_neg = pd.read_csv('negative.csv', sep=';')\n",
    "df_pos = pd.read_csv('positive.csv', sep=';')"
   ]
  },
  {
   "cell_type": "markdown",
   "id": "78115a6e-c067-4eff-bd4e-5cd6c06c888f",
   "metadata": {},
   "source": [
    "Объединяем негативные и позитивные комментарии в один датафрейм."
   ]
  },
  {
   "cell_type": "code",
   "execution_count": 4,
   "id": "3c88fb78-2d28-44fe-8c8b-87d3dc1fb43c",
   "metadata": {},
   "outputs": [],
   "source": [
    "df_res = pd.concat([df_neg, df_pos])\n",
    "df_res.reset_index(drop=True, inplace=True) "
   ]
  },
  {
   "cell_type": "markdown",
   "id": "04804dc7-3304-4bcd-880b-5a39c7725de6",
   "metadata": {},
   "source": [
    "Модель покажет себя более чем 226 тысячах комментариев."
   ]
  },
  {
   "cell_type": "code",
   "execution_count": 12,
   "id": "069dae96-7833-4218-b8c6-7d768d12a3cb",
   "metadata": {},
   "outputs": [
    {
     "name": "stdout",
     "output_type": "stream",
     "text": [
      "<class 'pandas.core.frame.DataFrame'>\n",
      "RangeIndex: 226834 entries, 0 to 226833\n",
      "Data columns (total 3 columns):\n",
      " #   Column       Non-Null Count   Dtype \n",
      "---  ------       --------------   ----- \n",
      " 0   text         226834 non-null  object\n",
      " 1   is_positive  226834 non-null  int64 \n",
      " 2   predictions  226834 non-null  int64 \n",
      "dtypes: int64(2), object(1)\n",
      "memory usage: 5.2+ MB\n"
     ]
    }
   ],
   "source": [
    "df_res.info()"
   ]
  },
  {
   "cell_type": "markdown",
   "id": "5c21b956-4a15-4ddb-92d4-70f5fab2cdad",
   "metadata": {},
   "source": [
    "Создаём поле, куда запишем наши предсказания"
   ]
  },
  {
   "cell_type": "code",
   "execution_count": 5,
   "id": "a6e572cb-2ef0-4d88-8a3d-e3c4fb9ea68f",
   "metadata": {},
   "outputs": [],
   "source": [
    "df_res['predictions'] = None"
   ]
  },
  {
   "cell_type": "markdown",
   "id": "9692c932-d61e-4f68-b888-10d31356819c",
   "metadata": {},
   "source": [
    "Теперь прогоним каждый комментарий через моделель"
   ]
  },
  {
   "cell_type": "code",
   "execution_count": 6,
   "id": "14e1f937-2508-47a8-b1f8-bfe45f5ecd0f",
   "metadata": {
    "scrolled": true
   },
   "outputs": [
    {
     "name": "stderr",
     "output_type": "stream",
     "text": [
      "226834it [08:25, 448.78it/s]\n"
     ]
    }
   ],
   "source": [
    "for row in tqdm(df_res.itertuples()):\n",
    "    text = []\n",
    "    text.append(row.text)\n",
    "    results = dostoevsky_model.predict(text, k=5)\n",
    "    del results[0]['skip']\n",
    "    del results[0]['speech']\n",
    "    results[0][0] = results[0].pop(\"neutral\")\n",
    "    results[0][-1] = results[0].pop(\"negative\")\n",
    "    results[0][1] = results[0].pop('positive')\n",
    "    ordered_dict = dict(sorted(results[0].items(), reverse=True, key=lambda x: x[1]))\n",
    "    first_key = next(iter(ordered_dict))\n",
    "    df_res.iloc[row.Index, 2] = first_key"
   ]
  },
  {
   "cell_type": "markdown",
   "id": "e283b51b-0640-456f-b990-d26d28bf5e3f",
   "metadata": {},
   "source": [
    "Датасет был размечен на позитивные и негативные комментарии. Поэтому заменим нейтральные предсказания на позитивные."
   ]
  },
  {
   "cell_type": "code",
   "execution_count": 7,
   "id": "5883d70a-97a3-4cde-bda9-3687f6382b53",
   "metadata": {},
   "outputs": [],
   "source": [
    "def sentiment_pos(sentiment):\n",
    "    if sentiment == 0:\n",
    "        return 1\n",
    "    else:\n",
    "        return sentiment"
   ]
  },
  {
   "cell_type": "code",
   "execution_count": 8,
   "id": "07143d47-b786-4b27-a675-25a0cdd8d9d7",
   "metadata": {},
   "outputs": [],
   "source": [
    "def sentiment_neg(sentiment):\n",
    "    if sentiment == -1:\n",
    "        return 0\n",
    "    else:\n",
    "        return sentiment"
   ]
  },
  {
   "cell_type": "code",
   "execution_count": 9,
   "id": "4a4a19df-258b-4531-aaa9-687650f76859",
   "metadata": {},
   "outputs": [],
   "source": [
    "df_res['predictions'] = df_res['predictions'].apply(sentiment_pos)"
   ]
  },
  {
   "cell_type": "code",
   "execution_count": 10,
   "id": "7f4751f9-70c0-43aa-8c0c-b4974a202849",
   "metadata": {},
   "outputs": [],
   "source": [
    "df_res['predictions'] = df_res['predictions'].apply(sentiment_neg)"
   ]
  },
  {
   "cell_type": "code",
   "execution_count": 11,
   "id": "2704a23d-8ac8-43cf-a05f-1467a2908ba1",
   "metadata": {},
   "outputs": [
    {
     "data": {
      "text/plain": [
       "0.8089100218907422"
      ]
     },
     "execution_count": 11,
     "metadata": {},
     "output_type": "execute_result"
    }
   ],
   "source": [
    "f1_score(df_res['is_positive'], df_res['predictions'])"
   ]
  },
  {
   "cell_type": "markdown",
   "id": "64156524-1df5-44c7-8a86-4c49f6345e36",
   "metadata": {},
   "source": [
    "**Вывод:** \\\n",
    "Метрика f1-score выбранной модели показала себя очень хорошо и оказалась равна 0.81."
   ]
  }
 ],
 "metadata": {
  "kernelspec": {
   "display_name": "Python 3 (ipykernel)",
   "language": "python",
   "name": "python3"
  },
  "language_info": {
   "codemirror_mode": {
    "name": "ipython",
    "version": 3
   },
   "file_extension": ".py",
   "mimetype": "text/x-python",
   "name": "python",
   "nbconvert_exporter": "python",
   "pygments_lexer": "ipython3",
   "version": "3.9.18"
  }
 },
 "nbformat": 4,
 "nbformat_minor": 5
}
